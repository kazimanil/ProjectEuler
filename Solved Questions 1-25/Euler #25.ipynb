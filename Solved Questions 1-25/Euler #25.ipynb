{
 "cells": [
  {
   "cell_type": "code",
   "execution_count": 80,
   "metadata": {},
   "outputs": [],
   "source": [
    "#Required Libraries\n",
    "import pandas as pd\n",
    "import sys\n",
    "\n",
    "# First three terms of a Fibonacci sequence\n",
    "x = pd.Series([\"1\",\"1\",\"2\"], dtype = 'str')\n",
    "\n",
    "# Fibonacci Sequence Generator\n",
    "while (len(str(max(x))) < 1000):\n",
    "    length = len(x)\n",
    "    x[length] = str(eval(x[length - 1] + '+' + x[length - 2]))"
   ]
  },
  {
   "cell_type": "code",
   "execution_count": 81,
   "metadata": {},
   "outputs": [
    {
     "data": {
      "text/plain": [
       "4782"
      ]
     },
     "execution_count": 81,
     "metadata": {},
     "output_type": "execute_result"
    }
   ],
   "source": [
    "y = pd.DataFrame(x)\n",
    "y['length'] = y[0].str.len()\n",
    "answer = y.index[y['length'] >= 1000].tolist()[0] + 1\n",
    "answer"
   ]
  }
 ],
 "metadata": {
  "kernelspec": {
   "display_name": "Python 3",
   "language": "python",
   "name": "python3"
  },
  "language_info": {
   "codemirror_mode": {
    "name": "ipython",
    "version": 3
   },
   "file_extension": ".py",
   "mimetype": "text/x-python",
   "name": "python",
   "nbconvert_exporter": "python",
   "pygments_lexer": "ipython3",
   "version": "3.6.4"
  }
 },
 "nbformat": 4,
 "nbformat_minor": 2
}
